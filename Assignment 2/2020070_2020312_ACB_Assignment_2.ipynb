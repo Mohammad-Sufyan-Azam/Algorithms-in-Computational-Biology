{
  "cells": [
    {
      "cell_type": "code",
      "execution_count": 1,
      "metadata": {
        "id": "xGlbYy45_lzM"
      },
      "outputs": [],
      "source": [
        "try:\n",
        "  import numpy as np\n",
        "  import pandas as pd\n",
        "  import time\n",
        "except Exception as e:\n",
        "  print('Error: {e}')"
      ]
    },
    {
      "cell_type": "code",
      "execution_count": 18,
      "metadata": {
        "id": "iDcGBWnrBPbe"
      },
      "outputs": [],
      "source": [
        "class Motifs():\n",
        "  def __init__(self,dna_sequence, motif_len):\n",
        "    self.dna_sequence = dna_sequence\n",
        "    self.motif_len = motif_len\n",
        "\n",
        "\n",
        "  # function to generate motifs of length 'L' given length of motifs and the DNA sequence\n",
        "  def generate_motifs(self):\n",
        "    return [seq[i:i+self.motif_len] for seq in self.dna_sequence for i in range(len(seq) - self.motif_len + 1)]\n",
        "\n",
        "\n",
        "  # function to generate the profile matrix from motifs\n",
        "  def generate_profile_matrix(self,motifs):\n",
        "      T, L_mer = len(motifs), len(motifs[0])\n",
        "      profile_matrix = np.zeros((4, L_mer))\n",
        "      nucleotides = {'a': 0, 'c': 1, 'g': 2, 't': 3}\n",
        "      for i in range(L_mer):\n",
        "         for j in range(T):\n",
        "              profile_matrix[nucleotides[motifs[j][i].lower()]][i] += 1\n",
        "      return profile_matrix\n",
        "\n",
        "\n",
        "   # function to get the best motifs out of all possible motifs\n",
        "  def get_best_motif(self, profile_matrix):\n",
        "    best_motif = \"\"\n",
        "    best_score = 0\n",
        "    for pos in range(profile_matrix.shape[1]):\n",
        "        max_score, max_nucleotide = max((profile_matrix[char][pos], 'ACGT'[char]) for char in range(profile_matrix.shape[0]))\n",
        "        best_motif += max_nucleotide\n",
        "        best_score += max_score\n",
        "    return best_motif, best_score\n",
        "\n",
        "\n",
        "  # finding the best motif out of all DNA Sequence\n",
        "  def find_best_motif(self):\n",
        "    motifs = self.generate_motifs()\n",
        "    print(\"Total Number Of Motifs:\", len(motifs)) # It should be (N-L+1)*T => (40-6+1)*26 = 35*26 = 910.\n",
        "    profile_matrix = self.generate_profile_matrix(motifs)\n",
        "    print(profile_matrix)\n",
        "    best_motif, best_score = self.get_best_motif(profile_matrix)\n",
        "    return best_motif, best_score\n",
        "\n"
      ]
    },
    {
      "cell_type": "code",
      "execution_count": 23,
      "metadata": {
        "colab": {
          "base_uri": "https://localhost:8080/"
        },
        "id": "Dm9EtxedDpoA",
        "outputId": "7d541bc0-1735-41fb-cb72-8689257ca80d"
      },
      "outputs": [
        {
          "name": "stdout",
          "output_type": "stream",
          "text": [
            "Total Number Of Motifs: 910\n",
            "[[265. 261. 267. 266. 261. 259.]\n",
            " [191. 193. 193. 191. 194. 197.]\n",
            " [272. 274. 270. 270. 267. 267.]\n",
            " [182. 182. 180. 183. 188. 187.]]\n",
            "Best Motif: GGGGGG\n",
            "Best Score: 1620.0\n",
            "Execution Time of the Algorithm :  0.010611295700073242 seconds\n"
          ]
        }
      ],
      "source": [
        "start_time = time.time()\n",
        "data = pd.read_csv('dna.csv', header=None)\n",
        "dna_sequence = data.values.flatten().tolist()\n",
        "motif_class = Motifs(\n",
        "    dna_sequence = dna_sequence,\n",
        "    motif_len = 6\n",
        ")\n",
        "best_result = motif_class.find_best_motif()\n",
        "end_time = time.time()\n",
        "print(\"Best Motif:\", best_result[0])\n",
        "print(\"Best Score:\", best_result[1])\n",
        "print('Execution Time of the Algorithm : ', end_time-start_time, 'seconds')"
      ]
    },
    {
      "cell_type": "code",
      "execution_count": null,
      "metadata": {
        "id": "4jnaWVCIb3Hd"
      },
      "outputs": [],
      "source": []
    }
  ],
  "metadata": {
    "colab": {
      "provenance": []
    },
    "kernelspec": {
      "display_name": "Python 3",
      "name": "python3"
    },
    "language_info": {
      "codemirror_mode": {
        "name": "ipython",
        "version": 3
      },
      "file_extension": ".py",
      "mimetype": "text/x-python",
      "name": "python",
      "nbconvert_exporter": "python",
      "pygments_lexer": "ipython3",
      "version": "3.10.2"
    }
  },
  "nbformat": 4,
  "nbformat_minor": 0
}
